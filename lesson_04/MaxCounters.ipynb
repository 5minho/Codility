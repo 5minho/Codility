{
 "cells": [
  {
   "cell_type": "markdown",
   "metadata": {},
   "source": [
    "처음에는 counters의 최대값을 유지 시키면서 max_counter 연산을 수행하는 시점에 최대값 배열을 생성해 counters에 할당했습니다."
   ]
  },
  {
   "cell_type": "code",
   "execution_count": 12,
   "metadata": {},
   "outputs": [
    {
     "data": {
      "text/plain": [
       "[3, 2, 2, 4, 2]"
      ]
     },
     "execution_count": 12,
     "metadata": {},
     "output_type": "execute_result"
    }
   ],
   "source": [
    "def solution(N, A):\n",
    "    counters = [0] * (N + 1)\n",
    "    max_value = 0\n",
    "    for a in A:\n",
    "        if a == N + 1:\n",
    "            counters = [max_value] * (N + 1)\n",
    "            continue\n",
    "        counters[a] += 1\n",
    "        max_value = max(max_value, counters[a])\n",
    "    return counters[1:]\n",
    "\n",
    "solution(5, [3, 4, 4, 6, 1, 4, 4])"
   ]
  },
  {
   "attachments": {},
   "cell_type": "markdown",
   "metadata": {},
   "source": [
    "제출해봤더니 Performance 점수가 80% 가 나왔습니다.\n",
    "\n",
    "max counter 연산을 할때 counters에 (N + 1) 개의 배열을 반복적으로 할당하는 것 때문이라고 생각했습니다.\n",
    "```python\n",
    "if a == N + 1:\n",
    "    counters = [max_value] * (N + 1)\n",
    "    continue\n",
    "```\n",
    "\n",
    "문제를 해결하는 방법은 max counter 연산을 할때 새로운 배열을 할당하는 것이 아니라,\n",
    "max를 저장해 놓고 counters 를 업데이트 할 때 저장해 놓은 max 값을 이용하는 것입니다.\n",
    "\n",
    "A[3] = 6 시점에서 counters = (2, 2, 2, 2, 2) 가 되어야 하지만\n",
    "실제 (2, 2, 2, 2, 2) 배열을 만들지 않고, '2' 라는 숫자가 각 자리에 있어야 한다고 생각하고(저장해 놓고)\n",
    "increase(X) 연산을 할때 저장해 놓은 2에다가 increase(X) 연산을 하는 것 입니다."
   ]
  },
  {
   "cell_type": "code",
   "execution_count": 11,
   "metadata": {},
   "outputs": [
    {
     "data": {
      "text/plain": [
       "[3, 2, 2, 4, 2]"
      ]
     },
     "execution_count": 11,
     "metadata": {},
     "output_type": "execute_result"
    }
   ],
   "source": [
    "def solution(N, A):\n",
    "    counters = [0] * (N + 1)\n",
    "    lazy_max_value = max_value = 0\n",
    "    for a in A:\n",
    "        if a == N + 1:\n",
    "            lazy_max_value = max_value # 현재 max_value를 lazy_max_value에 저장합니다.\n",
    "            continue\n",
    "        counters[a] = max(lazy_max_value, counters[a]) + 1 \n",
    "        # 증가 연산을 할때 저장해 놓은 lazy_max_value와 실제 counters[a]를 비교해서 큰 수에 증가 연산을 합니다. \n",
    "        # swift의 lazy 기능(인스턴스를 미리 생성해 두지 않고, 실제 접근시 생성한다.) 과 비슷한 아이디어라는 생각을 했습니다.\n",
    "        max_value = max(max_value, counters[a])\n",
    "        \n",
    "    # 마지막에 모든 counters를 순회하며 업데이트 되지 않은 counter를 업데이트 시킵니다.\n",
    "    for i in range(N + 1):\n",
    "        counters[i] = max(lazy_max_value, counters[i])\n",
    "    return counters[1:]\n",
    "\n",
    "solution(5, [3, 4, 4, 6, 1, 4, 4])"
   ]
  },
  {
   "attachments": {},
   "cell_type": "markdown",
   "metadata": {},
   "source": [
    "[제출해봤습니다.](https://app.codility.com/demo/results/trainingKM5WS8-66Q/)\n",
    "\n",
    "Performance 점수가 100%가 되었습니다. \n",
    "\n",
    "미리 배열을 업데이트 하지 않고 필요할 때 업데이트 하는 아이디어가 굉장히 좋았던거 같습니다."
   ]
  },
  {
   "cell_type": "code",
   "execution_count": null,
   "metadata": {},
   "outputs": [],
   "source": []
  }
 ],
 "metadata": {
  "kernelspec": {
   "display_name": "Python 3",
   "language": "python",
   "name": "python3"
  },
  "language_info": {
   "codemirror_mode": {
    "name": "ipython",
    "version": 3
   },
   "file_extension": ".py",
   "mimetype": "text/x-python",
   "name": "python",
   "nbconvert_exporter": "python",
   "pygments_lexer": "ipython3",
   "version": "3.6.5"
  }
 },
 "nbformat": 4,
 "nbformat_minor": 2
}
