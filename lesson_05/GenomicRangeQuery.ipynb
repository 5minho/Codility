{
 "cells": [
  {
   "cell_type": "markdown",
   "metadata": {},
   "source": [
    "문제의 답을 내는 알고리즘은 어렵지 않았지만, 주어진 시간복잡도, O(N + M) 를 만족하는 알고리즘이 생각이 안났습니다.\n",
    "\n",
    "괜찮았던 솔루션은 유전자(A, C, G, T) 마다 언제 마지막으로 등장했는지 기록하는 것이었습니다."
   ]
  },
  {
   "cell_type": "code",
   "execution_count": 6,
   "metadata": {},
   "outputs": [
    {
     "data": {
      "text/plain": [
       "{'A': [-1, -1, 1, 1, 1, 1, 1, 6],\n",
       " 'C': [-1, 0, 0, 0, 3, 4, 4, 4],\n",
       " 'G': [-1, -1, -1, 2, 2, 2, 2, 2],\n",
       " 'T': [-1, -1, -1, -1, -1, -1, 5, 5]}"
      ]
     },
     "execution_count": 6,
     "metadata": {},
     "output_type": "execute_result"
    }
   ],
   "source": [
    "def solution(S, P, Q):\n",
    "    last_pos = {\n",
    "        'A' : [-1],\n",
    "        'C' : [-1],\n",
    "        'G' : [-1],\n",
    "        'T' : [-1],\n",
    "    }\n",
    "    \n",
    "    for i, s in enumerate(S):\n",
    "        for dna in ('A', 'C', 'G', 'T'):\n",
    "            if s == dna:\n",
    "                last_pos[dna].append(i)\n",
    "            else:\n",
    "                last_pos[dna].append(last_pos[dna][-1])\n",
    "                \n",
    "    return last_pos\n",
    "\n",
    "solution('CAGCCTA', [2, 5, 0], [4, 5, 6])"
   ]
  },
  {
   "cell_type": "markdown",
   "metadata": {},
   "source": [
    "이 기록으로 특정 범위안에 어떤 유전자수가 제일 작은지 알아냅니다.\n",
    "\n",
    "p ~ q (포함) 범위라면 last_pos[dna][q + 1] 가 p 보다 큰 숫자 중에서, 가장작은 유전자 수를 구하면 됩니다."
   ]
  },
  {
   "cell_type": "code",
   "execution_count": 9,
   "metadata": {},
   "outputs": [
    {
     "data": {
      "text/plain": [
       "[2, 4, 1]"
      ]
     },
     "execution_count": 9,
     "metadata": {},
     "output_type": "execute_result"
    }
   ],
   "source": [
    "def solution(S, P, Q):\n",
    "    last_pos = {\n",
    "        'A' : [-1],\n",
    "        'C' : [-1],\n",
    "        'G' : [-1],\n",
    "        'T' : [-1],\n",
    "    }\n",
    "    \n",
    "    for i, s in enumerate(S):\n",
    "        for dna in ('A', 'C', 'G', 'T'):\n",
    "            if s == dna:\n",
    "                last_pos[dna].append(i)\n",
    "            else:\n",
    "                last_pos[dna].append(last_pos[dna][-1])\n",
    "\n",
    "    result = []\n",
    "    \n",
    "    for p, q in zip(P, Q):\n",
    "        result.append(min(i + 1 for i, dna in enumerate(['A', 'C', 'G', 'T']) if last_pos[dna][q + 1] >= p))\n",
    "        \n",
    "    return result\n",
    "\n",
    "solution('CAGCCTA', [2, 5, 0], [4, 5, 6])"
   ]
  },
  {
   "cell_type": "markdown",
   "metadata": {},
   "source": [
    "```python\n",
    "min(i + 1 for i, dna in enumerate(['A', 'C', 'G', 'T']) if last_pos[dna][q + 1] >= p)\n",
    "```\n",
    "에서 min에 빈 리스트가 들어갈수도 있지 않을까? 했지만, 그런 경우는 없습니다. 문제의 전제가 P[K] ≤ Q[K], where 0 ≤ K < M 이고, last_pos의 배열들이 중간에 감소하는 경우도 없기 때문입니다. 시간복잡도, 공간복잡도 모두 만족하는 괜찮은 솔루션인거 같습니다."
   ]
  }
 ],
 "metadata": {
  "kernelspec": {
   "display_name": "Python 3",
   "language": "python",
   "name": "python3"
  },
  "language_info": {
   "codemirror_mode": {
    "name": "ipython",
    "version": 3
   },
   "file_extension": ".py",
   "mimetype": "text/x-python",
   "name": "python",
   "nbconvert_exporter": "python",
   "pygments_lexer": "ipython3",
   "version": "3.6.5"
  }
 },
 "nbformat": 4,
 "nbformat_minor": 2
}
