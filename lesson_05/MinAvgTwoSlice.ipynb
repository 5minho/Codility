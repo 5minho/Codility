{
 "cells": [
  {
   "cell_type": "markdown",
   "metadata": {},
   "source": [
    "이 문제는 단순하게 답만을 구하는 알고리즘은 어렵지 않지만, 주어진 시간복잡도(O(N))를 만족하는 알고리즘은 생각이 나지 않았습니다.\n",
    "\n",
    "시간복잡도 O(N) 만족하는 답을 내기 위해서는\n",
    "\n",
    "SliceAvg(a, b) <= a, b 슬라이스의 평균\n",
    "\n",
    "SliceAvg(x, z) > SliceAvg(x, y) or SliceAvg(x, z) > SliceAvg(y + 1, z) (0 <= x < y < z <= N) 임을 생각해 내야 합니다.\n",
    "\n",
    "즉 어떤 슬라이스를 두 슬라이스로 나누면, 두 슬라이스의 평균은 나누기 전의 슬라이스의 평균 보다 작습니다.\n",
    "\n",
    "그렇게 최소 평균 슬라이스을 찾아 재귀적으로 계속 나누게 되면 결국 최소 평균 슬라이스는 요소의 개수가 2개 또는 3개 여야만 하는 것입니다.\n",
    "\n",
    "이런 생각을 해내고 문제를 풀어보면"
   ]
  },
  {
   "cell_type": "code",
   "execution_count": 19,
   "metadata": {},
   "outputs": [
    {
     "data": {
      "text/plain": [
       "1"
      ]
     },
     "execution_count": 19,
     "metadata": {},
     "output_type": "execute_result"
    }
   ],
   "source": [
    "def solution(A):\n",
    "    result, min_avg = 0, (A[0] + A[1]) / 2\n",
    "    \n",
    "    for i in range(len(A) - 1):\n",
    "        two_slice_avg = (A[i] + A[i + 1]) / 2\n",
    "        \n",
    "        if min_avg > two_slice_avg:\n",
    "            min_avg = two_slice_avg\n",
    "            result = i\n",
    "        \n",
    "        if i + 2 > len(A) - 1:\n",
    "            continue\n",
    "            \n",
    "        three_slice_avg = (A[i] + A[i + 1] + A[i + 2]) / 3\n",
    "        \n",
    "        if min_avg > three_slice_avg:\n",
    "            min_avg = three_slice_avg\n",
    "            result = i\n",
    "            \n",
    "    return result\n",
    "\n",
    "solution([4, 2, 2, 5, 1, 5, 8])"
   ]
  },
  {
   "cell_type": "markdown",
   "metadata": {},
   "source": [
    "> 즉 어떤 슬라이스를 두 슬라이스로 나누면, 두 슬라이스의 평균은 나누기 전의 슬라이스의 평균 보다 작습니다.\n",
    "\n",
    "이 명제는 귀류법으로 증명할 수 있습니다.\n",
    "\n",
    "$$\n",
    "A = \\frac{\\sum_{k=1}^n a_k}{n},\n",
    "B = \\frac{\\sum_{k=1}^i a_k}{i},\n",
    "C = \\frac{\\sum_{k=i+1}^n a_k}{n-i}\n",
    "$$\n",
    "\n",
    "이라고 했을때 A >= B or A >= C 을 귀류법으로 증명하기 위해 A < B and A < C 의 모순을 증명해 보겠습니다\n",
    "\n",
    "A < B 일 경우에\n",
    "\n",
    "$$\n",
    "\\frac{\\sum_{k=1}^n a_k}{n} < \\frac{\\sum_{k=1}^i a_k}{i} \n",
    "$$\n",
    "\n",
    "양변에 n * i 를 곱합니다\n",
    "\n",
    "$$\n",
    "i * \\sum_{k=1}^n a_k < n * \\sum_{k=1}^i a_k\n",
    "$$\n",
    "\n",
    "=>\n",
    "\n",
    "$$\n",
    "i * (\\sum_{k=1}^i a_k + \\sum_{k=i+1}^n a_k) < n * \\sum_{k=1}^i a_k\n",
    "$$\n",
    "\n",
    "=>\n",
    "\n",
    "$$\n",
    "i * \\sum_{k=i+1}^n a_k < (n - i) \\sum_{k=1}^i a_k\n",
    "$$\n",
    "\n",
    "=>\n",
    "\n",
    "$$\n",
    "\\frac{\\sum_{k=i+1}^n a_k}{n - i} < \\frac{\\sum_{k=1}^i a_k}{i}\n",
    "$$\n",
    "\n",
    "=> C < B 가 됩니다.\n",
    "\n",
    "A < C 일 경우에도 위와 비슷하게 계산해보면 B < C 라는 식이 나옵니다. 따라서 A < B and A < C의 경우에 C < B and B < C 라는 결과가 나오는데 이는 모순이므로  A >= B or A >= C 는 참입니다.\n",
    "\n",
    "문제를 풀때 '어떤 슬라이스를 두 슬라이스로 나누면, 두 슬라이스의 평균은 나누기 전의 슬라이스의 평균 보다 작을까?' 라는 생각을 잠깐 했었지만, 증명할 수 없기 때문에 저 논리를 적용하지 못했습니다. 만약 증명하지 못해도 느낌적인 느낌으로 참이라고 가정을 하고 '최소 평균 슬라이스을 찾아 재귀적으로 계속 나누게 되면 결국 최소 평균 슬라이스는 요소의 개수가 2개 또는 3개이다' 라는 생각을 해냈어야 했는데 하지 못하였습니다. 프로그래밍을 할때 논리력이 정말 중요하다는 것을 다시 한번 느끼게 하는 문제였습니다."
   ]
  }
 ],
 "metadata": {
  "kernelspec": {
   "display_name": "Python 3",
   "language": "python",
   "name": "python3"
  },
  "language_info": {
   "codemirror_mode": {
    "name": "ipython",
    "version": 3
   },
   "file_extension": ".py",
   "mimetype": "text/x-python",
   "name": "python",
   "nbconvert_exporter": "python",
   "pygments_lexer": "ipython3",
   "version": "3.6.5"
  }
 },
 "nbformat": 4,
 "nbformat_minor": 2
}
