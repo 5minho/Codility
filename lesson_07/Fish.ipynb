{
 "cells": [
  {
   "cell_type": "code",
   "execution_count": 15,
   "metadata": {},
   "outputs": [
    {
     "data": {
      "text/plain": [
       "2"
      ]
     },
     "execution_count": 15,
     "metadata": {},
     "output_type": "execute_result"
    }
   ],
   "source": [
    "class Fish:\n",
    "    def __init__(self, size, stream):\n",
    "        self.size = size\n",
    "        self.stream = stream\n",
    "    \n",
    "    def is_cross(self, other_fish):\n",
    "        return other_fish.stream == 1 and self.stream == 0\n",
    "\n",
    "    \n",
    "def bigger(one, another):\n",
    "    return one if one.size > another.size else another\n",
    "\n",
    "    \n",
    "def solution(A, B):\n",
    "    fish_stack = []\n",
    "    \n",
    "    for size, stream in zip(A, B):\n",
    "        next_fish = Fish(size, stream)\n",
    "        while fish_stack and next_fish.is_cross(fish_stack[-1]):\n",
    "            top_fish = fish_stack.pop()\n",
    "            next_fish = bigger(next_fish, top_fish)\n",
    "        else:\n",
    "            fish_stack.append(next_fish)\n",
    "        \n",
    "    return len(fish_stack)\n",
    "\n",
    "solution([4, 3, 2, 1, 5], [0, 1, 0, 0, 0])"
   ]
  },
  {
   "cell_type": "markdown",
   "metadata": {},
   "source": [
    "이 문제는 알고리즘을 생각을 해놓고서 구현을 못해서 다시 풀어보기로 체크 했던 기억이 납니다. `fish_stack` 은 경쟁으로 부터 벗어난 물고기들이 담긴 스택입니다. (스택에 담긴 물고기가 다운스트림이라면 다시 경쟁해야할 때가 올 수 있습니다.) 경쟁하는 조건은 `fish_stack`의 top 물고기의 방향이 다운스트림이고, `next_fish` 가 업스트림이면 경쟁을 하는데, 경쟁 시에 `fish_stack`에 제일 위에 있는 물고기를 꺼내고 `next_fish`와 경쟁 시킵니다. 이를 경쟁 조건이 일어나지 않을때 까지 반복한 후 `fish_stack`에 승리한 물고기를 집어 넣는 방식으로 구현했습니다."
   ]
  }
 ],
 "metadata": {
  "kernelspec": {
   "display_name": "Python 3",
   "language": "python",
   "name": "python3"
  },
  "language_info": {
   "codemirror_mode": {
    "name": "ipython",
    "version": 3
   },
   "file_extension": ".py",
   "mimetype": "text/x-python",
   "name": "python",
   "nbconvert_exporter": "python",
   "pygments_lexer": "ipython3",
   "version": "3.6.5"
  }
 },
 "nbformat": 4,
 "nbformat_minor": 2
}
