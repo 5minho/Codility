{
 "cells": [
  {
   "cell_type": "code",
   "execution_count": 31,
   "metadata": {},
   "outputs": [
    {
     "data": {
      "text/plain": [
       "110"
      ]
     },
     "execution_count": 31,
     "metadata": {},
     "output_type": "execute_result"
    }
   ],
   "source": [
    "def solution(A):\n",
    "    from_left = [0] * len(A)\n",
    "    from_right = [0] * len(A)\n",
    "\n",
    "    for i in range(1, len(A) - 1):\n",
    "        from_left[i] = max(0, from_left[i - 1] + A[i])\n",
    "        \n",
    "    for i in range(len(A) - 2, 0, -1):\n",
    "        from_right[i] = max(0, from_right[i + 1] + A[i])\n",
    "        \n",
    "    result = 0\n",
    "    \n",
    "    for i in range(1, len(A)-1):\n",
    "        result = max(result, from_left[i - 1] + from_right[i + 1])\n",
    "        \n",
    "    return result\n",
    "\n",
    "solution([2, 4, -7, 6, -9, 4, 100, 1000])"
   ]
  },
  {
   "cell_type": "markdown",
   "metadata": {},
   "source": [
    "이 문제의 키포인트는 양쪽에서 max_ending 구해오며 배열에 저장하는 것 입니다. <br/>\n",
    "\n",
    "from_left[i] = A[0] ~ A[n-1] 의 최대 슬라이스 값 + A[i]  <br/>\n",
    "from_right[i] = A[i+1] ~ A[n] 의 최대 슬라이스 값 + A[i]  <br/>\n",
    "\n",
    "> max_ending : 처음 부터 현재 위치 전 까지의 슬라이스의 최대값 (바로 전 값은 무조건 포함해야 한다.)<br/>\n",
    "> max_slice : 처음 부터 현재 위치 전 까지의 슬라이스의 최대값 (바로 전 값에 상관없이 슬라이스의 최대값)\n",
    "\n",
    "처음 풀때에는 max_slice를 구해서 from_left, from_right 배열에 저장해서 틀렸었습니다.\n",
    "\n",
    "그리고 범위의 경계값은 포함이 되지 않기 때문에 처음, 마지막 값은 0 으로 초기화 되어 있어야 합니다.\n",
    "\n",
    "from_left, from_right 배열을 이용해서 특정 인덱스의 양쪽에 최대슬라이스합을 구해주면 O(N) 의 연산이 총 3번이고 주어진 시간 복잡도 안에 해결 가능합니다."
   ]
  }
 ],
 "metadata": {
  "kernelspec": {
   "display_name": "Python 3",
   "language": "python",
   "name": "python3"
  },
  "language_info": {
   "codemirror_mode": {
    "name": "ipython",
    "version": 3
   },
   "file_extension": ".py",
   "mimetype": "text/x-python",
   "name": "python",
   "nbconvert_exporter": "python",
   "pygments_lexer": "ipython3",
   "version": "3.6.5"
  }
 },
 "nbformat": 4,
 "nbformat_minor": 2
}
