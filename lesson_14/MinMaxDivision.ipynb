{
 "cells": [
  {
   "cell_type": "markdown",
   "metadata": {},
   "source": [
    "리스트를 K 개의 블록으로 나눕니다. (리스트의 값들은 M 보다 작습니다.)<br/>\n",
    "그렇다면 K 개의 블록의 합이4있을 것 입니다. <br/>\n",
    "그 합들의 최소값을 구하는 것이 문제 입니다. <br/>\n",
    "\n",
    "\n",
    "예)\n",
    "\n",
    " A = [2, 1, 5, 1, 2, 2, 2] 일때 <br/>\n",
    "[2, 1, 5, 1, 2, 2, 2], [], [] with a large sum of 15; <br/>\n",
    "[2], [1, 5, 1, 2], [2, 2] with a large sum of 9; <br/>\n",
    "[2, 1, 5], [], [1, 2, 2, 2] with a large sum of 8; <br/>\n",
    "[2, 1], [5, 1], [2, 2, 2] with a large sum of 6. <br/>\n",
    "\n",
    "최소값은 6 이므로 답은 6 입니다.\n",
    "    \n",
    "문제에서 요구하는 시간복잡도는 O(N*log(N+M)) 입니다. <br/>\n",
    "\n",
    "문제에서 주어지는 M 값, 그리고 리스트의 합 S 값 이 사이에서 이진탐색을 통해 답을 찾아내는 문제였습니다. <br/>\n",
    "\n",
    "\n",
    "A = [2, 1, 5, 1, 2, 2, 2] <br/>\n",
    "M = 5 <br/>\n",
    "S = sum(A) = 15 <br/>\n",
    "\n",
    "배열을 여러 그룹으로 나누고 그 합의 최소값을 구하는 것 이기 때문에 5 ~ 15 범위에 답이 있는 것은 자명합니다. <br/>\n",
    "\n",
    "5 ~ 15 범위안에서 이진 검색으로 범위를 줄여가며 답을 찾아내는것이 이 문제의 솔루션 입니다.<br/>\n",
    "\n",
    "\n",
    "> 문제에서 주어지는 M 이 실제 A 의 최대값이 아닌 경우가 있다고 합니다. 그래서 이진검색의 초기 시작값을 M 이 아니고 max(A) 로 했습니다."
   ]
  },
  {
   "cell_type": "code",
   "execution_count": 12,
   "metadata": {},
   "outputs": [],
   "source": [
    "def solution(K, M, A):\n",
    "    b, e = max(A), sum(A);\n",
    "    \n",
    "    def is_below(threshold):\n",
    "        cur_blocks = cur_sum = 0\n",
    "        for a in A:\n",
    "            if cur_sum + a > threshold:\n",
    "                cur_blocks += 1\n",
    "                cur_sum = a\n",
    "            else:\n",
    "                cur_sum += a\n",
    "            if cur_blocks >= K:\n",
    "                return False\n",
    "        return True\n",
    "    \n",
    "    while b <= e:\n",
    "        m = (b + e) // 2\n",
    "        if is_below(m):\n",
    "            e = m - 1\n",
    "        else:\n",
    "            b = m + 1\n",
    "            \n",
    "    return b"
   ]
  },
  {
   "cell_type": "code",
   "execution_count": 13,
   "metadata": {},
   "outputs": [
    {
     "data": {
      "text/plain": [
       "6"
      ]
     },
     "execution_count": 13,
     "metadata": {},
     "output_type": "execute_result"
    }
   ],
   "source": [
    "solution(3, 5, [2, 1, 5, 1, 2, 2, 2])"
   ]
  }
 ],
 "metadata": {
  "kernelspec": {
   "display_name": "Python 3",
   "language": "python",
   "name": "python3"
  },
  "language_info": {
   "codemirror_mode": {
    "name": "ipython",
    "version": 3
   },
   "file_extension": ".py",
   "mimetype": "text/x-python",
   "name": "python",
   "nbconvert_exporter": "python",
   "pygments_lexer": "ipython3",
   "version": "3.6.5"
  }
 },
 "nbformat": 4,
 "nbformat_minor": 2
}
